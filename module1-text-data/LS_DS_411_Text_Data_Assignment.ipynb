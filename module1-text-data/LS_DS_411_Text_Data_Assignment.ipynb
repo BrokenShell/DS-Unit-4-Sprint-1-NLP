{
  "nbformat": 4,
  "nbformat_minor": 0,
  "metadata": {
    "colab": {
      "name": "LS_DS_411_Text_Data_Assignment.ipynb",
      "provenance": [],
      "collapsed_sections": [],
      "include_colab_link": true
    },
    "kernelspec": {
      "name": "python3",
      "display_name": "Python 3"
    },
    "toc-autonumbering": false,
    "accelerator": "GPU"
  },
  "cells": [
    {
      "cell_type": "markdown",
      "metadata": {
        "id": "view-in-github",
        "colab_type": "text"
      },
      "source": [
        "<a href=\"https://colab.research.google.com/github/BrokenShell/DS-Unit-4-Sprint-1-NLP/blob/master/module1-text-data/LS_DS_411_Text_Data_Assignment.ipynb\" target=\"_parent\"><img src=\"https://colab.research.google.com/assets/colab-badge.svg\" alt=\"Open In Colab\"/></a>"
      ]
    },
    {
      "cell_type": "markdown",
      "metadata": {
        "id": "qJDiJYVEvE8U",
        "colab_type": "text"
      },
      "source": [
        "<img align=\"left\" src=\"https://lever-client-logos.s3.amazonaws.com/864372b1-534c-480e-acd5-9711f850815c-1524247202159.png\" width=200>\n",
        "<br></br>\n",
        "<br></br>\n",
        "\n",
        "# Natural Language Processing (NLP)\n",
        "## *Data Science Unit 4 Sprint 1 Assignment 1*\n",
        "\n",
        "Your goal in this assignment: find the attributes of the best & worst coffee shops in the dataset. The text is fairly raw: dates in the review, extra words in the `star_rating` column, etc. You'll probably want to clean that stuff up for a better analysis. \n",
        "\n",
        "Analyze the corpus of text using text visualizations of token frequency. Try cleaning the data as much as possible. Try the following techniques: \n",
        "- Lemmatization\n",
        "- Custom stopword removal\n",
        "\n",
        "Keep in mind the attributes of good tokens. Once you have a solid baseline, layer in the star rating in your visualization(s). Key part of this assignment - produce a write-up of the attributes of the best and worst coffee shops. Based on your analysis, what makes the best the best and the worst the worst. Use graphs and numbesr from your analysis to support your conclusions. There should be plenty of markdown cells!"
      ]
    },
    {
      "cell_type": "markdown",
      "metadata": {
        "id": "qjTOGlM634Kn",
        "colab_type": "text"
      },
      "source": [
        "## After running the next cell..."
      ]
    },
    {
      "cell_type": "code",
      "metadata": {
        "id": "OeMZnW2O7Lvh",
        "colab_type": "code",
        "colab": {
          "base_uri": "https://localhost:8080/",
          "height": 241
        },
        "outputId": "8908902d-539d-4e4b-cb2f-620e7f5a3b2f"
      },
      "source": [
        "!python -m spacy download en_core_web_lg"
      ],
      "execution_count": null,
      "outputs": [
        {
          "output_type": "stream",
          "text": [
            "Collecting en_core_web_lg==2.1.0\n",
            "\u001b[?25l  Downloading https://github.com/explosion/spacy-models/releases/download/en_core_web_lg-2.1.0/en_core_web_lg-2.1.0.tar.gz (826.9MB)\n",
            "\u001b[K     |████████████████████████████████| 826.9MB 6.8MB/s \n",
            "\u001b[?25hBuilding wheels for collected packages: en-core-web-lg\n",
            "  Building wheel for en-core-web-lg (setup.py) ... \u001b[?25l\u001b[?25hdone\n",
            "  Created wheel for en-core-web-lg: filename=en_core_web_lg-2.1.0-cp36-none-any.whl size=828255078 sha256=26d8fc841e79d22947439d63272f5f929da502d35792376b60f8a600c2211f6f\n",
            "  Stored in directory: /tmp/pip-ephem-wheel-cache-3xs8ytbn/wheels/b4/d7/70/426d313a459f82ed5e06cc36a50e2bb2f0ec5cb31d8e0bdf09\n",
            "Successfully built en-core-web-lg\n",
            "Installing collected packages: en-core-web-lg\n",
            "Successfully installed en-core-web-lg-2.1.0\n",
            "\u001b[38;5;2m✔ Download and installation successful\u001b[0m\n",
            "You can now load the model via spacy.load('en_core_web_lg')\n"
          ],
          "name": "stdout"
        }
      ]
    },
    {
      "cell_type": "markdown",
      "metadata": {
        "id": "vl_CK85U4FcD",
        "colab_type": "text"
      },
      "source": [
        "## ...restart the runtime!"
      ]
    },
    {
      "cell_type": "code",
      "metadata": {
        "id": "aT3XdDxK3Yf6",
        "colab_type": "code",
        "colab": {}
      },
      "source": [
        "import spacy\n",
        "nlp = spacy.load('en_core_web_lg')"
      ],
      "execution_count": null,
      "outputs": []
    },
    {
      "cell_type": "code",
      "metadata": {
        "id": "djBKIwAqy3rC",
        "colab_type": "code",
        "colab": {
          "base_uri": "https://localhost:8080/",
          "height": 173
        },
        "outputId": "fc6cdb99-620a-4924-b259-64b369d9f8bc"
      },
      "source": [
        "!pip install IteratorAlgorithms  # I wrote this library!\n",
        "!pip install squarify\n",
        "\n",
        "import IteratorAlgorithms as ia\n",
        "import squarify"
      ],
      "execution_count": null,
      "outputs": [
        {
          "output_type": "stream",
          "text": [
            "Collecting IteratorAlgorithms\n",
            "  Downloading https://files.pythonhosted.org/packages/49/a6/2ff8cf942098f752c07f3e04309c90a54d64944f135b8583cffce290b199/IteratorAlgorithms-0.1.3-py3-none-any.whl\n",
            "Installing collected packages: IteratorAlgorithms\n",
            "Successfully installed IteratorAlgorithms-0.1.3\n",
            "Collecting squarify\n",
            "  Downloading https://files.pythonhosted.org/packages/0b/2b/2e77c35326efec19819cd1d729540d4d235e6c2a3f37658288a363a67da5/squarify-0.4.3-py3-none-any.whl\n",
            "Installing collected packages: squarify\n",
            "Successfully installed squarify-0.4.3\n"
          ],
          "name": "stdout"
        }
      ]
    },
    {
      "cell_type": "code",
      "metadata": {
        "id": "jA4683Xi8C4a",
        "colab_type": "code",
        "colab": {}
      },
      "source": [
        "import pandas as pd\n",
        "import re\n",
        "from collections import Counter\n",
        "import matplotlib.pyplot as plt\n",
        "from spacy.tokenizer import Tokenizer\n",
        "from spacy.matcher import Matcher\n",
        "from nltk.stem import PorterStemmer\n",
        "import seaborn as sns\n",
        "import altair as alt"
      ],
      "execution_count": null,
      "outputs": []
    },
    {
      "cell_type": "code",
      "metadata": {
        "id": "0qCEvEBDvE8h",
        "colab_type": "code",
        "colab": {
          "base_uri": "https://localhost:8080/",
          "height": 204
        },
        "outputId": "a33b9764-29ba-4705-bb41-ec013e0a0092"
      },
      "source": [
        "url = \"https://raw.githubusercontent.com/LambdaSchool/DS-Unit-4-Sprint-1-NLP/master/module1-text-data/data/yelp_coffeeshop_review_data.csv\"\n",
        "shops = pd.read_csv(url)\n",
        "shops.head()"
      ],
      "execution_count": null,
      "outputs": [
        {
          "output_type": "execute_result",
          "data": {
            "text/html": [
              "<div>\n",
              "<style scoped>\n",
              "    .dataframe tbody tr th:only-of-type {\n",
              "        vertical-align: middle;\n",
              "    }\n",
              "\n",
              "    .dataframe tbody tr th {\n",
              "        vertical-align: top;\n",
              "    }\n",
              "\n",
              "    .dataframe thead th {\n",
              "        text-align: right;\n",
              "    }\n",
              "</style>\n",
              "<table border=\"1\" class=\"dataframe\">\n",
              "  <thead>\n",
              "    <tr style=\"text-align: right;\">\n",
              "      <th></th>\n",
              "      <th>coffee_shop_name</th>\n",
              "      <th>full_review_text</th>\n",
              "      <th>star_rating</th>\n",
              "    </tr>\n",
              "  </thead>\n",
              "  <tbody>\n",
              "    <tr>\n",
              "      <th>0</th>\n",
              "      <td>The Factory - Cafe With a Soul</td>\n",
              "      <td>11/25/2016 1 check-in Love love loved the atm...</td>\n",
              "      <td>5.0 star rating</td>\n",
              "    </tr>\n",
              "    <tr>\n",
              "      <th>1</th>\n",
              "      <td>The Factory - Cafe With a Soul</td>\n",
              "      <td>12/2/2016 Listed in Date Night: Austin, Ambia...</td>\n",
              "      <td>4.0 star rating</td>\n",
              "    </tr>\n",
              "    <tr>\n",
              "      <th>2</th>\n",
              "      <td>The Factory - Cafe With a Soul</td>\n",
              "      <td>11/30/2016 1 check-in Listed in Brunch Spots ...</td>\n",
              "      <td>4.0 star rating</td>\n",
              "    </tr>\n",
              "    <tr>\n",
              "      <th>3</th>\n",
              "      <td>The Factory - Cafe With a Soul</td>\n",
              "      <td>11/25/2016 Very cool decor! Good drinks Nice ...</td>\n",
              "      <td>2.0 star rating</td>\n",
              "    </tr>\n",
              "    <tr>\n",
              "      <th>4</th>\n",
              "      <td>The Factory - Cafe With a Soul</td>\n",
              "      <td>12/3/2016 1 check-in They are located within ...</td>\n",
              "      <td>4.0 star rating</td>\n",
              "    </tr>\n",
              "  </tbody>\n",
              "</table>\n",
              "</div>"
            ],
            "text/plain": [
              "                  coffee_shop_name  ...        star_rating\n",
              "0  The Factory - Cafe With a Soul   ...   5.0 star rating \n",
              "1  The Factory - Cafe With a Soul   ...   4.0 star rating \n",
              "2  The Factory - Cafe With a Soul   ...   4.0 star rating \n",
              "3  The Factory - Cafe With a Soul   ...   2.0 star rating \n",
              "4  The Factory - Cafe With a Soul   ...   4.0 star rating \n",
              "\n",
              "[5 rows x 3 columns]"
            ]
          },
          "metadata": {
            "tags": []
          },
          "execution_count": 5
        }
      ]
    },
    {
      "cell_type": "markdown",
      "metadata": {
        "id": "ZEtBOAxC-Nsa",
        "colab_type": "text"
      },
      "source": [
        "### Data Cleaning"
      ]
    },
    {
      "cell_type": "code",
      "metadata": {
        "id": "p3E_Eg1y-JmT",
        "colab_type": "code",
        "colab": {
          "base_uri": "https://localhost:8080/",
          "height": 34
        },
        "outputId": "6818c8b1-e753-45ff-9333-10f4623ba87e"
      },
      "source": [
        "clean_shops = shops.copy()\n",
        "\n",
        "clean_shops['star_rating'] = clean_shops['star_rating'].apply(lambda s: int(float(s.split()[0])))\n",
        "clean_shops['star_rating'][0]"
      ],
      "execution_count": null,
      "outputs": [
        {
          "output_type": "execute_result",
          "data": {
            "text/plain": [
              "5"
            ]
          },
          "metadata": {
            "tags": []
          },
          "execution_count": 6
        }
      ]
    },
    {
      "cell_type": "code",
      "metadata": {
        "id": "UyI99-ZQ5m8A",
        "colab_type": "code",
        "colab": {
          "base_uri": "https://localhost:8080/",
          "height": 119
        },
        "outputId": "e8c198de-8ce4-44cd-cee1-c07cfe6dd7d4"
      },
      "source": [
        "clean_shops['star_rating'].value_counts()"
      ],
      "execution_count": null,
      "outputs": [
        {
          "output_type": "execute_result",
          "data": {
            "text/plain": [
              "5    3780\n",
              "4    2360\n",
              "3     738\n",
              "2     460\n",
              "1     278\n",
              "Name: star_rating, dtype: int64"
            ]
          },
          "metadata": {
            "tags": []
          },
          "execution_count": 7
        }
      ]
    },
    {
      "cell_type": "code",
      "metadata": {
        "id": "i8UAnUiF9Zzg",
        "colab_type": "code",
        "colab": {
          "base_uri": "https://localhost:8080/",
          "height": 54
        },
        "outputId": "a0a0b7a1-d6c2-4da9-82b7-2cab569e1460"
      },
      "source": [
        "clean_shops['full_review_text'] = clean_shops['full_review_text'].apply(lambda s: ' '.join(s.split()[3:]))\n",
        "clean_shops['full_review_text'][0]"
      ],
      "execution_count": null,
      "outputs": [
        {
          "output_type": "execute_result",
          "data": {
            "text/plain": [
              "'Love love loved the atmosphere! Every corner of the coffee shop had its own style, and there were swings!!! I ordered the matcha latte, and it was muy fantastico! Ordering and getting my drink were pretty streamlined. I ordered on an iPad, which included all beverage selections that ranged from coffee to wine, desired level of sweetness, and a checkout system. I got my latte within minutes! I was hoping for a typical heart or feather on my latte, but found myself listing out all the possibilities of what the art may be. Any ideas?'"
            ]
          },
          "metadata": {
            "tags": []
          },
          "execution_count": 8
        }
      ]
    },
    {
      "cell_type": "markdown",
      "metadata": {
        "id": "bKbldH97-SH7",
        "colab_type": "text"
      },
      "source": [
        "### Functions"
      ]
    },
    {
      "cell_type": "code",
      "metadata": {
        "id": "ZyYJmtB1vE8l",
        "colab_type": "code",
        "colab": {}
      },
      "source": [
        "def tokenize(text):\n",
        "    tokens = re.sub(r'[^a-z A-Z]', '', text)\n",
        "    tokens = tokens.lower().split()\n",
        "    return tokens\n",
        "\n",
        "\n",
        "def count(docs):\n",
        "    word_counts = Counter()\n",
        "    appears_in = Counter()\n",
        "    total_docs = len(docs)\n",
        "    for doc in docs:\n",
        "        word_counts.update(doc)\n",
        "        appears_in.update(set(doc))\n",
        "    temp = zip(word_counts.keys(), word_counts.values())\n",
        "    wc = pd.DataFrame(temp, columns=['word', 'count'])\n",
        "    wc['rank'] = wc['count'].rank(method='first', ascending=False)\n",
        "    total = wc['count'].sum()\n",
        "    wc['pct_total'] = wc['count'].apply(lambda x: x / total)\n",
        "    wc = wc.sort_values(by='rank')\n",
        "    wc['cum_total'] = wc['pct_total'].cumsum()\n",
        "    t2 = zip(appears_in.keys(), appears_in.values())\n",
        "    ac = pd.DataFrame(t2, columns=['word', 'appears_in'])\n",
        "    wc = ac.merge(wc, on='word')\n",
        "    wc['appears_in_pct'] = wc['appears_in'].apply(lambda x: x / total_docs)\n",
        "    return wc.sort_values(by='rank')"
      ],
      "execution_count": null,
      "outputs": []
    },
    {
      "cell_type": "markdown",
      "metadata": {
        "id": "cpIccUY1vE8p",
        "colab_type": "text"
      },
      "source": [
        "## How do we want to analyze these coffee shop tokens? \n",
        "\n",
        "- Overall Word / Token Count\n",
        "- View Counts by Rating \n",
        "- *Hint:* a 'bad' coffee shops has a rating betweeen 1 & 3 based on the distribution of ratings. A 'good' coffee shop is a 4 or 5. "
      ]
    },
    {
      "cell_type": "markdown",
      "metadata": {
        "id": "-isqYvgj-WFI",
        "colab_type": "text"
      },
      "source": [
        "### Tokenizing Data"
      ]
    },
    {
      "cell_type": "code",
      "metadata": {
        "id": "qpaV9jsaCHdz",
        "colab_type": "code",
        "colab": {}
      },
      "source": [
        "token_shops = clean_shops.copy()\n",
        "token_shops['tokens'] = token_shops['full_review_text'].apply(tokenize)"
      ],
      "execution_count": null,
      "outputs": []
    },
    {
      "cell_type": "markdown",
      "metadata": {
        "id": "1toxkX2cEL-c",
        "colab_type": "text"
      },
      "source": [
        "Splitting Good vs Bad Shops\n",
        "- Good is 4 or 5 Stars\n",
        "- Bad is 1-3 Stars"
      ]
    },
    {
      "cell_type": "code",
      "metadata": {
        "id": "YsYoNGyOvE8q",
        "colab_type": "code",
        "colab": {
          "base_uri": "https://localhost:8080/",
          "height": 264
        },
        "outputId": "c245b31e-56d3-4d72-dea7-5dffd9080b0c"
      },
      "source": [
        "good_shops = token_shops[token_shops['star_rating'] > 3]\n",
        "\n",
        "gs = count(good_shops['tokens'])\n",
        "gs_top20 = gs[gs['rank'] <= 20]\n",
        "squarify.plot(sizes=gs_top20['pct_total'], label=gs_top20['word'], alpha=.8)\n",
        "plt.title('Good Shops')\n",
        "plt.axis('off')\n",
        "plt.show()"
      ],
      "execution_count": null,
      "outputs": [
        {
          "output_type": "display_data",
          "data": {
            "image/png": "[encoded data removed]",
            "text/plain": [
              "<Figure size 432x288 with 1 Axes>"
            ]
          },
          "metadata": {
            "tags": []
          }
        }
      ]
    },
    {
      "cell_type": "code",
      "metadata": {
        "id": "YNanPIEcBt1x",
        "colab_type": "code",
        "colab": {
          "base_uri": "https://localhost:8080/",
          "height": 264
        },
        "outputId": "b5041eba-0f50-42bf-8a9e-60a838204532"
      },
      "source": [
        "bad_shops = token_shops[token_shops['star_rating'] < 4]\n",
        "\n",
        "bs = count(bad_shops['tokens'])\n",
        "bs_top20 = bs[bs['rank'] <= 20]\n",
        "squarify.plot(sizes=bs_top20['pct_total'], label=bs_top20['word'], alpha=.8)\n",
        "plt.title('Bad Shops')\n",
        "plt.axis('off')\n",
        "plt.show()"
      ],
      "execution_count": null,
      "outputs": [
        {
          "output_type": "display_data",
          "data": {
            "image/png": "[encoded data removed]",
            "text/plain": [
              "<Figure size 432x288 with 1 Axes>"
            ]
          },
          "metadata": {
            "tags": []
          }
        }
      ]
    },
    {
      "cell_type": "markdown",
      "metadata": {
        "id": "b8Oe_PdCV434",
        "colab_type": "text"
      },
      "source": [
        "> The data is nearly meaningless due to the filler words like \"the\", \"for\" and others. Stop words to the rescue!"
      ]
    },
    {
      "cell_type": "markdown",
      "metadata": {
        "id": "E-487YyuFr-n",
        "colab_type": "text"
      },
      "source": [
        "### Fresh Data"
      ]
    },
    {
      "cell_type": "code",
      "metadata": {
        "id": "vHIbDoA9HY8B",
        "colab_type": "code",
        "colab": {
          "base_uri": "https://localhost:8080/",
          "height": 204
        },
        "outputId": "f689a2ed-a507-4e3b-ba01-a92028a22c2b"
      },
      "source": [
        "clean_shops.head()"
      ],
      "execution_count": null,
      "outputs": [
        {
          "output_type": "execute_result",
          "data": {
            "text/html": [
              "<div>\n",
              "<style scoped>\n",
              "    .dataframe tbody tr th:only-of-type {\n",
              "        vertical-align: middle;\n",
              "    }\n",
              "\n",
              "    .dataframe tbody tr th {\n",
              "        vertical-align: top;\n",
              "    }\n",
              "\n",
              "    .dataframe thead th {\n",
              "        text-align: right;\n",
              "    }\n",
              "</style>\n",
              "<table border=\"1\" class=\"dataframe\">\n",
              "  <thead>\n",
              "    <tr style=\"text-align: right;\">\n",
              "      <th></th>\n",
              "      <th>coffee_shop_name</th>\n",
              "      <th>full_review_text</th>\n",
              "      <th>star_rating</th>\n",
              "    </tr>\n",
              "  </thead>\n",
              "  <tbody>\n",
              "    <tr>\n",
              "      <th>0</th>\n",
              "      <td>The Factory - Cafe With a Soul</td>\n",
              "      <td>Love love loved the atmosphere! Every corner o...</td>\n",
              "      <td>5</td>\n",
              "    </tr>\n",
              "    <tr>\n",
              "      <th>1</th>\n",
              "      <td>The Factory - Cafe With a Soul</td>\n",
              "      <td>Date Night: Austin, Ambiance in Austin BEAUTIF...</td>\n",
              "      <td>4</td>\n",
              "    </tr>\n",
              "    <tr>\n",
              "      <th>2</th>\n",
              "      <td>The Factory - Cafe With a Soul</td>\n",
              "      <td>Listed in Brunch Spots I loved the eclectic an...</td>\n",
              "      <td>4</td>\n",
              "    </tr>\n",
              "    <tr>\n",
              "      <th>3</th>\n",
              "      <td>The Factory - Cafe With a Soul</td>\n",
              "      <td>decor! Good drinks Nice seating However... Jus...</td>\n",
              "      <td>2</td>\n",
              "    </tr>\n",
              "    <tr>\n",
              "      <th>4</th>\n",
              "      <td>The Factory - Cafe With a Soul</td>\n",
              "      <td>They are located within the Northcross mall sh...</td>\n",
              "      <td>4</td>\n",
              "    </tr>\n",
              "  </tbody>\n",
              "</table>\n",
              "</div>"
            ],
            "text/plain": [
              "                  coffee_shop_name  ... star_rating\n",
              "0  The Factory - Cafe With a Soul   ...           5\n",
              "1  The Factory - Cafe With a Soul   ...           4\n",
              "2  The Factory - Cafe With a Soul   ...           4\n",
              "3  The Factory - Cafe With a Soul   ...           2\n",
              "4  The Factory - Cafe With a Soul   ...           4\n",
              "\n",
              "[5 rows x 3 columns]"
            ]
          },
          "metadata": {
            "tags": []
          },
          "execution_count": 13
        }
      ]
    },
    {
      "cell_type": "code",
      "metadata": {
        "id": "LNC0TCrULju-",
        "colab_type": "code",
        "colab": {}
      },
      "source": [
        "def clean_str(s):\n",
        "    return re.sub(r'[^a-z ]', '', s.lower())"
      ],
      "execution_count": null,
      "outputs": []
    },
    {
      "cell_type": "code",
      "metadata": {
        "id": "ecOI97LSN_Tz",
        "colab_type": "code",
        "colab": {}
      },
      "source": [
        "# Custom Stop Words\n",
        "stop_words = {\n",
        "    'a', 'to', 'the', 'and', 'was', 'but', 'it', 'i', 'my', 'place',\n",
        "    'this', 'in', 'of', 'on', 'they', 'that', 'with', 'for', 'is',\n",
        "    'are', 'so', 'you', 'have', 'at', 'their', 'had', 'be', 'not', 'didnt',\n",
        "    'there', 'if', 'like', 'its', 'just', 'or', 'all', 'out', 'here',\n",
        "    'from', 'get', 'as', 'very', 'me', 'one', 'back', 'some', 'really', \n",
        "    'also', 'were', 'an', 'can', 'when', 'up', 'im', 'which', 'go', 'food',\n",
        "    'about', 'shop', 'too', 'more', 'we', 'what', 'would', 'your', 'dont',\n",
        "    'by', 'people', 'dont', 'only', 'ive', 'will', 'has', 'work', 'order',\n",
        "    'other', 'come', 'try', 'well', 'because', 'definitely', 'even', 'got',\n",
        "    'do', 'been', 'than', 'always', 'spot', 'make', 'much', 'day', 'okay',\n",
        "    'ordered', 'small', 'know', 'lot', 'them', 'sweet', 'made', 'pretty',\n",
        "    'see', 'first', 'over', 'want', 'after', 'while', 'right', 'awesome',\n",
        "    'think', 'area', 'around', 'how', 'inside', 'am', 'two', 'ask', 'great',\n",
        "    'wasnt'\n",
        "}"
      ],
      "execution_count": null,
      "outputs": []
    },
    {
      "cell_type": "code",
      "metadata": {
        "id": "S02jWROGXgj0",
        "colab_type": "code",
        "colab": {}
      },
      "source": [
        "STOP_WORDS = nlp.Defaults.stop_words.union(stop_words)"
      ],
      "execution_count": null,
      "outputs": []
    },
    {
      "cell_type": "code",
      "metadata": {
        "id": "mH9dkQSxvE8v",
        "colab_type": "code",
        "colab": {
          "base_uri": "https://localhost:8080/",
          "height": 119
        },
        "outputId": "89267e34-deac-4a17-8bfc-7c703b58d061"
      },
      "source": [
        "# Tokenizer Pipe\n",
        "pipe_shops = clean_shops.copy()\n",
        "pipe_shops['full_review_text'] = pipe_shops['full_review_text'].apply(clean_str)\n",
        "tokenizer = Tokenizer(nlp.vocab)\n",
        "\n",
        "tokens = []\n",
        "for doc in tokenizer.pipe(pipe_shops['full_review_text'], batch_size=500):\n",
        "    tokens.append(\n",
        "        ia.difference({token.lemma_ for token in doc if token.lemma_ != ' '}, STOP_WORDS)\n",
        "    )\n",
        "\n",
        "pipe_shops['tokens'] = tokens\n",
        "pipe_shops['tokens'].head()"
      ],
      "execution_count": null,
      "outputs": [
        {
          "output_type": "execute_result",
          "data": {
            "text/plain": [
              "0    {corner, swing, hope, style, minute, feather, ...\n",
              "1    {prepare, ambiance, penny, waffle, dessert, lo...\n",
              "2    {swing, outside, worth, item, decor, thoroughl...\n",
              "3    {music, decor, odd, follow, service, average, ...\n",
              "4    {item, choose, pick, face, upload, new, east, ...\n",
              "Name: tokens, dtype: object"
            ]
          },
          "metadata": {
            "tags": []
          },
          "execution_count": 17
        }
      ]
    },
    {
      "cell_type": "code",
      "metadata": {
        "id": "Qthn2DsnMjxo",
        "colab_type": "code",
        "colab": {
          "base_uri": "https://localhost:8080/",
          "height": 264
        },
        "outputId": "239736d8-c668-4916-fad5-0d1c0a3b074a"
      },
      "source": [
        "wc = count(pipe_shops['tokens'])\n",
        "wc_top20 = wc[wc['rank'] <= 20]\n",
        "squarify.plot(sizes=wc_top20['pct_total'], label=wc_top20['word'], alpha=.8)\n",
        "plt.title('Custom Stop Words Removed')\n",
        "plt.axis('off')\n",
        "plt.show()"
      ],
      "execution_count": null,
      "outputs": [
        {
          "output_type": "display_data",
          "data": {
            "image/png": "[encoded data removed]",
            "text/plain": [
              "<Figure size 432x288 with 1 Axes>"
            ]
          },
          "metadata": {
            "tags": []
          }
        }
      ]
    },
    {
      "cell_type": "code",
      "metadata": {
        "id": "4DnXDnCzUHXv",
        "colab_type": "code",
        "colab": {
          "base_uri": "https://localhost:8080/",
          "height": 264
        },
        "outputId": "55030d56-501d-4b2e-c983-20c01950a375"
      },
      "source": [
        "good_shops = pipe_shops[pipe_shops['star_rating'] > 3]\n",
        "\n",
        "gs = count(good_shops['tokens'])\n",
        "gs_top20 = gs[gs['rank'] <= 10]\n",
        "squarify.plot(sizes=gs_top20['pct_total'], label=gs_top20['word'], alpha=.8)\n",
        "plt.title('Good Shops')\n",
        "plt.axis('off')\n",
        "plt.show()"
      ],
      "execution_count": null,
      "outputs": [
        {
          "output_type": "display_data",
          "data": {
            "image/png": "[encoded data removed]",
            "text/plain": [
              "<Figure size 432x288 with 1 Axes>"
            ]
          },
          "metadata": {
            "tags": []
          }
        }
      ]
    },
    {
      "cell_type": "code",
      "metadata": {
        "id": "4AvgfMpWUUCn",
        "colab_type": "code",
        "colab": {
          "base_uri": "https://localhost:8080/",
          "height": 264
        },
        "outputId": "8824b50c-6f24-415d-a12a-8f1b7c0af10a"
      },
      "source": [
        "bad_shops = pipe_shops[pipe_shops['star_rating'] < 4]\n",
        "\n",
        "bs = count(bad_shops['tokens'])\n",
        "bs_top20 = bs[bs['rank'] <= 10]\n",
        "squarify.plot(sizes=bs_top20['pct_total'], label=bs_top20['word'], alpha=.8)\n",
        "plt.title('Bad Shops')\n",
        "plt.axis('off')\n",
        "plt.show()"
      ],
      "execution_count": null,
      "outputs": [
        {
          "output_type": "display_data",
          "data": {
            "image/png": "[encoded data removed]",
            "text/plain": [
              "<Figure size 432x288 with 1 Axes>"
            ]
          },
          "metadata": {
            "tags": []
          }
        }
      ]
    },
    {
      "cell_type": "markdown",
      "metadata": {
        "id": "gb0_TUyLvE8t",
        "colab_type": "text"
      },
      "source": [
        "## Visualize the words with the greatest difference in counts between 'good' & 'bad'.\n",
        "\n",
        "Couple Notes: \n",
        "- Rel. freq. instead of absolute counts b/c of different numbers of reviews\n",
        "- Only look at the top 5-10 words with the greatest differences\n"
      ]
    },
    {
      "cell_type": "code",
      "metadata": {
        "id": "z1zZqdREWTtK",
        "colab_type": "code",
        "colab": {}
      },
      "source": [
        "gwc = count(good_shops['tokens'])\n",
        "bwc = count(bad_shops['tokens'])"
      ],
      "execution_count": null,
      "outputs": []
    },
    {
      "cell_type": "code",
      "metadata": {
        "id": "EHAu6HLzfHFw",
        "colab_type": "code",
        "colab": {}
      },
      "source": [
        "diff = pd.DataFrame(columns=['word', 'rate diff', 'goodbad'])\n",
        "words, rates, goodbads = [], [], []\n",
        "\n",
        "# Get all the good word counts and subtract the bad count \n",
        "for word in gwc['word']:\n",
        "    a = gwc[gwc['word'] == word]['appears_in_pct'].values[0]\n",
        "    if word in bwc['word'].values:\n",
        "        b = bwc[bwc['word'] == word]['appears_in_pct'].values[0]\n",
        "    else:\n",
        "        b = 0\n",
        "    words.append(word)\n",
        "    c = a - b\n",
        "    rates.append(abs(c))\n",
        "    goodbads.append('Good' if c > 0.06 else 'Bad' if c < -0.06 else 'Meh')\n",
        "\n",
        "# Get all the bad word counts that aren't in the good words\n",
        "for word in bwc['word']:\n",
        "    if word not in gwc['word'].values:\n",
        "        words.append(word)\n",
        "        rates.append(bwc[bwc['word'] == word]['appears_in_pct'].values[0])\n",
        "        goodbads.append('Bad')\n",
        "\n",
        "diff['word'] = words\n",
        "diff['rate diff'] = rates\n",
        "diff['goodbad'] = goodbads"
      ],
      "execution_count": null,
      "outputs": []
    },
    {
      "cell_type": "code",
      "metadata": {
        "id": "Hl9tG_g4sjYY",
        "colab_type": "code",
        "colab": {
          "base_uri": "https://localhost:8080/",
          "height": 374
        },
        "outputId": "f63115ef-aaed-4470-d89a-a16f11e1b91c"
      },
      "source": [
        "short_list = diff.sort_values(by='rate diff', ascending=False).head(20).reset_index().drop(columns=['index'])\n",
        "print(short_list)\n",
        "# short_list.to_csv(\"shortlist.csv\")"
      ],
      "execution_count": null,
      "outputs": [
        {
          "output_type": "stream",
          "text": [
            "          word  rate diff goodbad\n",
            "0    delicious   0.132392    Good\n",
            "1     friendly   0.105599    Good\n",
            "2         love   0.095821    Good\n",
            "3      service   0.091538     Bad\n",
            "4       austin   0.088376    Good\n",
            "5        taste   0.081122     Bad\n",
            "6     customer   0.081039     Bad\n",
            "7        amaze   0.077844    Good\n",
            "8        maybe   0.073528     Bad\n",
            "9      perfect   0.072600    Good\n",
            "10    favorite   0.070333    Good\n",
            "11        time   0.068377     Bad\n",
            "12       wrong   0.066284     Bad\n",
            "13        star   0.065404     Bad\n",
            "14      review   0.062238     Bad\n",
            "15         pay   0.061724     Bad\n",
            "16         bad   0.060460     Bad\n",
            "17      minute   0.059757     Meh\n",
            "18        rude   0.059236     Meh\n",
            "19  experience   0.057502     Meh\n"
          ],
          "name": "stdout"
        }
      ]
    },
    {
      "cell_type": "code",
      "metadata": {
        "id": "kaun1_WZpu_C",
        "colab_type": "code",
        "colab": {
          "base_uri": "https://localhost:8080/",
          "height": 529
        },
        "outputId": "c2c39f75-7d08-4abf-895c-936ca1859aec"
      },
      "source": [
        "domain = ['Good', 'Bad', 'Meh']\n",
        "range_ = ['green', 'brown', 'orange']\n",
        "alt.Chart(short_list, title=\"Good, Bad & Meh\").mark_circle(size=250).encode(\n",
        "    x=alt.X('word:O', sort='y', title=\"\"),\n",
        "    y=alt.Y('rate diff:Q', title=\"Absolute Relative Difference\"),\n",
        "    color=alt.Color('goodbad:N', title=\"\", scale=alt.Scale(domain=domain, range=range_)),\n",
        "    tooltip=['word', 'goodbad'],\n",
        ").properties(width=630, height=420)"
      ],
      "execution_count": null,
      "outputs": [
        {
          "output_type": "execute_result",
          "data": {
            "text/plain": [
              "alt.Chart(...)"
            ],
            "text/html": [
              "\n",
              "<div id=\"altair-viz-92d33d923f8146edba8a0177b5c01ad1\"></div>\n",
              "<script type=\"text/javascript\">\n",
              "  (function(spec, embedOpt){\n",
              "    const outputDiv = document.getElementById(\"altair-viz-92d33d923f8146edba8a0177b5c01ad1\");\n",
              "    const paths = {\n",
              "      \"vega\": \"https://cdn.jsdelivr.net/npm//vega@5?noext\",\n",
              "      \"vega-lib\": \"https://cdn.jsdelivr.net/npm//vega-lib?noext\",\n",
              "      \"vega-lite\": \"https://cdn.jsdelivr.net/npm//vega-lite@4.0.2?noext\",\n",
              "      \"vega-embed\": \"https://cdn.jsdelivr.net/npm//vega-embed@6?noext\",\n",
              "    };\n",
              "\n",
              "    function loadScript(lib) {\n",
              "      return new Promise(function(resolve, reject) {\n",
              "        var s = document.createElement('script');\n",
              "        s.src = paths[lib];\n",
              "        s.async = true;\n",
              "        s.onload = () => resolve(paths[lib]);\n",
              "        s.onerror = () => reject(`Error loading script: ${paths[lib]}`);\n",
              "        document.getElementsByTagName(\"head\")[0].appendChild(s);\n",
              "      });\n",
              "    }\n",
              "\n",
              "    function showError(err) {\n",
              "      outputDiv.innerHTML = `<div class=\"error\" style=\"color:red;\">${err}</div>`;\n",
              "      throw err;\n",
              "    }\n",
              "\n",
              "    function displayChart(vegaEmbed) {\n",
              "      vegaEmbed(outputDiv, spec, embedOpt)\n",
              "        .catch(err => showError(`Javascript Error: ${err.message}<br>This usually means there's a typo in your chart specification. See the javascript console for the full traceback.`));\n",
              "    }\n",
              "\n",
              "    if(typeof define === \"function\" && define.amd) {\n",
              "      requirejs.config({paths});\n",
              "      require([\"vega-embed\"], displayChart, err => showError(`Error loading script: ${err.message}`));\n",
              "    } else if (typeof vegaEmbed === \"function\") {\n",
              "      displayChart(vegaEmbed);\n",
              "    } else {\n",
              "      loadScript(\"vega\")\n",
              "        .then(() => loadScript(\"vega-lite\"))\n",
              "        .then(() => loadScript(\"vega-embed\"))\n",
              "        .catch(showError)\n",
              "        .then(() => displayChart(vegaEmbed));\n",
              "    }\n",
              "  })({\"config\": {\"view\": {\"continuousWidth\": 400, \"continuousHeight\": 300}}, \"data\": {\"name\": \"data-ca9c4aae59bb388c2e31c4489caef2c4\"}, \"mark\": {\"type\": \"circle\", \"size\": 250}, \"encoding\": {\"color\": {\"type\": \"nominal\", \"field\": \"goodbad\", \"scale\": {\"domain\": [\"Good\", \"Bad\", \"Meh\"], \"range\": [\"green\", \"brown\", \"orange\"]}, \"title\": \"\"}, \"tooltip\": [{\"type\": \"nominal\", \"field\": \"word\"}, {\"type\": \"nominal\", \"field\": \"goodbad\"}], \"x\": {\"type\": \"ordinal\", \"field\": \"word\", \"sort\": \"y\", \"title\": \"\"}, \"y\": {\"type\": \"quantitative\", \"field\": \"rate diff\", \"title\": \"Absolute Relative Difference\"}}, \"height\": 420, \"title\": \"Good, Bad & Meh\", \"width\": 630, \"$schema\": \"https://vega.github.io/schema/vega-lite/v4.0.2.json\", \"datasets\": {\"data-ca9c4aae59bb388c2e31c4489caef2c4\": [{\"word\": \"delicious\", \"rate diff\": 0.1323923271806008, \"goodbad\": \"Good\"}, {\"word\": \"friendly\", \"rate diff\": 0.10559925143225374, \"goodbad\": \"Good\"}, {\"word\": \"love\", \"rate diff\": 0.09582108524668309, \"goodbad\": \"Good\"}, {\"word\": \"service\", \"rate diff\": 0.09153800658527758, \"goodbad\": \"Bad\"}, {\"word\": \"austin\", \"rate diff\": 0.08837557268080826, \"goodbad\": \"Good\"}, {\"word\": \"taste\", \"rate diff\": 0.08112205714891027, \"goodbad\": \"Bad\"}, {\"word\": \"customer\", \"rate diff\": 0.08103907912043289, \"goodbad\": \"Bad\"}, {\"word\": \"amaze\", \"rate diff\": 0.07784442502405481, \"goodbad\": \"Good\"}, {\"word\": \"maybe\", \"rate diff\": 0.07352824342575673, \"goodbad\": \"Bad\"}, {\"word\": \"perfect\", \"rate diff\": 0.07260003707528931, \"goodbad\": \"Good\"}, {\"word\": \"favorite\", \"rate diff\": 0.07033314795688672, \"goodbad\": \"Good\"}, {\"word\": \"time\", \"rate diff\": 0.06837698507278231, \"goodbad\": \"Bad\"}, {\"word\": \"wrong\", \"rate diff\": 0.06628443808868056, \"goodbad\": \"Bad\"}, {\"word\": \"star\", \"rate diff\": 0.06540389996733842, \"goodbad\": \"Bad\"}, {\"word\": \"review\", \"rate diff\": 0.06223793508293389, \"goodbad\": \"Bad\"}, {\"word\": \"pay\", \"rate diff\": 0.061724177502361345, \"goodbad\": \"Bad\"}, {\"word\": \"bad\", \"rate diff\": 0.060460086685557406, \"goodbad\": \"Bad\"}, {\"word\": \"minute\", \"rate diff\": 0.059756538933467516, \"goodbad\": \"Meh\"}, {\"word\": \"rude\", \"rate diff\": 0.05923616076551645, \"goodbad\": \"Meh\"}, {\"word\": \"experience\", \"rate diff\": 0.05750200824483815, \"goodbad\": \"Meh\"}]}}, {\"mode\": \"vega-lite\"});\n",
              "</script>"
            ]
          },
          "metadata": {
            "tags": []
          },
          "execution_count": 29
        }
      ]
    },
    {
      "cell_type": "markdown",
      "metadata": {
        "id": "reDr_ymAMqXP",
        "colab_type": "text"
      },
      "source": [
        "# Summary\n",
        "It seems that the best Coffee Shops are described as friendly and delicious! When a bad review is given words such as 'service' and 'customer' are often in the text."
      ]
    },
    {
      "cell_type": "markdown",
      "metadata": {
        "colab_type": "text",
        "id": "1dCb1q8XphcP",
        "toc-hr-collapsed": true
      },
      "source": [
        "## Stretch Goals\n",
        "\n",
        "* [ ] Analyze another corpus of documents - such as Indeed.com job listings ;).\n",
        "* [x] Play with the Spacy API to\n",
        " - Extract Named Entities\n",
        " - Extracting 'noun chunks'\n",
        " - Attempt Document Classification with just Spacy\n",
        " - *Note:* This [course](https://course.spacy.io/) will be of interesting in helping you with these stretch goals. \n",
        "* [x] Try to build a plotly ~~dash~~ discord app with your text data \n",
        "    - [Discord NLP Bot](https://github.com/BrokenShell/Discord-NLP-Bot)\n",
        "\n"
      ]
    },
    {
      "cell_type": "markdown",
      "metadata": {
        "id": "mnv1ZvwbG1Ik",
        "colab_type": "text"
      },
      "source": [
        "### Named Entities"
      ]
    },
    {
      "cell_type": "code",
      "metadata": {
        "id": "C4n1-51d1Iid",
        "colab_type": "code",
        "colab": {
          "base_uri": "https://localhost:8080/",
          "height": 68
        },
        "outputId": "131f0f29-ca56-4d04-fdbc-002d81cef683"
      },
      "source": [
        "import spacy\n",
        "\n",
        "nlp = spacy.load(\"en_core_web_lg\")\n",
        "text = \"My name is Robert Sharp, I love Python3 and Picaso.\"\n",
        "doc = nlp(text)\n",
        "\n",
        "for ent in doc.ents:\n",
        "    print(ent.text, ent.label_)"
      ],
      "execution_count": null,
      "outputs": [
        {
          "output_type": "stream",
          "text": [
            "Robert Sharp PERSON\n",
            "Python3 FAC\n",
            "Picaso PERSON\n"
          ],
          "name": "stdout"
        }
      ]
    },
    {
      "cell_type": "code",
      "metadata": {
        "id": "Atj9G6JEGb1C",
        "colab_type": "code",
        "colab": {
          "base_uri": "https://localhost:8080/",
          "height": 85
        },
        "outputId": "8c6b9b60-2e60-4241-a4a5-fccb8b9ebbdb"
      },
      "source": [
        "matcher = Matcher(nlp.vocab)\n",
        "doc = nlp(\n",
        "    \"After making the iOS update you won't notice a radical \"\n",
        "    \"system-wide redesign: nothing like the aesthetic upheaval \"\n",
        "    \"we got with iOS 7. Most of iOS 11's furniture remains the \"\n",
        "    \"same as in iOS 10. But you will discover some tweaks once \"\n",
        "    \"you delve a little deeper.\"\n",
        ")\n",
        "\n",
        "# Write a pattern for full iOS versions\n",
        "pattern = [{\"TEXT\": \"iOS\"}, {\"IS_DIGIT\": True}]\n",
        "\n",
        "# Add the pattern to the matcher and apply\n",
        "matcher.add(\"IOS_VERSION\", None, pattern)\n",
        "matches = matcher(doc)\n",
        "\n",
        "# Iterate over the matches and print\n",
        "print(\"Total matches found:\", len(matches))\n",
        "for _, start, end in matches:\n",
        "    print(\"Match found:\", doc[start:end].text)"
      ],
      "execution_count": null,
      "outputs": [
        {
          "output_type": "stream",
          "text": [
            "Total matches found: 3\n",
            "Match found: iOS 7\n",
            "Match found: iOS 11\n",
            "Match found: iOS 10\n"
          ],
          "name": "stdout"
        }
      ]
    },
    {
      "cell_type": "markdown",
      "metadata": {
        "id": "zI57U_AIH-sz",
        "colab_type": "text"
      },
      "source": [
        "### Noun Chunks"
      ]
    },
    {
      "cell_type": "code",
      "metadata": {
        "id": "Y43mgUJVIh9v",
        "colab_type": "code",
        "colab": {
          "base_uri": "https://localhost:8080/",
          "height": 136
        },
        "outputId": "f892f7ff-a8fd-4249-e385-d2f6d935b670"
      },
      "source": [
        "import spacy\n",
        "from spacy.matcher import Matcher\n",
        "\n",
        "nlp = spacy.load(\"en_core_web_sm\")\n",
        "matcher = Matcher(nlp.vocab)\n",
        "\n",
        "doc = nlp(\n",
        "    \"Features of the app include a beautiful design, smart search, automatic \"\n",
        "    \"labels and optional voice responses. And we will build it in a timely \"\n",
        "    \"manner or the undead king will prevail.\"\n",
        ")\n",
        "\n",
        "# Write a pattern for adjective plus one or two nouns\n",
        "pattern = [{\"POS\": \"ADJ\"}, {\"POS\": \"NOUN\"}, {\"POS\": \"NOUN\", \"OP\": \"?\"}]\n",
        "\n",
        "# Add the pattern to the matcher and apply the matcher to the doc\n",
        "matcher.add(\"ADJ_NOUN_PATTERN\", None, pattern)\n",
        "matches = matcher(doc)\n",
        "print(\"Total matches found:\", len(matches))\n",
        "\n",
        "# Iterate over the matches and print the span text\n",
        "for match_id, start, end in matches:\n",
        "    print(\"Match found:\", doc[start:end].text)"
      ],
      "execution_count": null,
      "outputs": [
        {
          "output_type": "stream",
          "text": [
            "Total matches found: 6\n",
            "Match found: beautiful design\n",
            "Match found: smart search\n",
            "Match found: automatic labels\n",
            "Match found: optional voice responses\n",
            "Match found: timely manner\n",
            "Match found: undead king\n"
          ],
          "name": "stdout"
        }
      ]
    },
    {
      "cell_type": "markdown",
      "metadata": {
        "id": "8-xNyt_u6Ghi",
        "colab_type": "text"
      },
      "source": [
        "These are amazingly awesome!!!"
      ]
    },
    {
      "cell_type": "code",
      "metadata": {
        "id": "BuN8LkJPI6Aa",
        "colab_type": "code",
        "colab": {}
      },
      "source": [
        ""
      ],
      "execution_count": null,
      "outputs": []
    }
  ]
}